{
 "cells": [
  {
   "cell_type": "markdown",
   "id": "d3bfc191-8885-42ee-b0a0-bbab867c6f9f",
   "metadata": {
    "tags": []
   },
   "source": [
    "# Lab | Flow Control"
   ]
  },
  {
   "cell_type": "markdown",
   "id": "303cceb0-f898-4c5f-99bd-c04e131e1ded",
   "metadata": {},
   "source": [
    "Objective: Practice how to use programming constructs like if/else statements and loops to control the flow of a program's execution."
   ]
  },
  {
   "cell_type": "markdown",
   "id": "42fd260a-9eb2-4c39-9989-f2c8c70552ec",
   "metadata": {},
   "source": [
    "## Challenge: The Haunted Mansion"
   ]
  },
  {
   "cell_type": "markdown",
   "id": "7086f8f7-ded2-48e5-b966-7ec44fb57ca5",
   "metadata": {},
   "source": [
    "You are a brave adventurer who has decided to explore the Haunted Mansion, a decrepit old building that is rumored to be haunted by ghosts and spirits. Your objective is to find the treasure that is hidden somewhere in the mansion.\n",
    "\n",
    "## Requirements\n",
    "\n",
    "- Your script should have at least two functions: \"run_mansion()\" and \"encounter_ghost()\".\n",
    "- Your script should use if-else statements, while loops, for loops, combined loops, or nested loops to control the flow of execution.\n",
    "- Your script should prompt the user for input to make decisions on which path to take or what actions to perform.\n",
    "- Your script should include random events and obstacles that can either help or hinder the adventurer in their quest.\n",
    "- Your script should have an objective of finding the treasure at the end of the mansion.\n",
    "\n",
    "## Instructions\n",
    "\n",
    "- Begin by creating a list of items that the adventurer can pick up along the way. These items will be used to help the adventurer overcome obstacles and defeat ghosts. Examples of items can be weapons, potions, keys, etc.\n",
    "\n",
    "- Complete the function called \"run_mansion()\" that serves as the main function for the game. Within \"run_mansion()\", prompt the user to choose a path to take at each intersection. Each path should have its unique challenges and obstacles that the adventurer must overcome.\n",
    "\n",
    "- Use loops to check if the adventurer has enough health points to continue the game. If their health points drop to zero, the game is over.\n",
    "\n",
    "- Complete the function called \"encounter_ghost()\" that will be used to handle ghost encounters. The function should use random events to determine the outcome of the encounter, and the adventurer should use their items to help them defeat the ghost.\n",
    "\n",
    "- Use loops to generate random events or items along the way. These events can either help or hinder the adventurer, and the outcome should be based on random chance.\n",
    "\n",
    "- At the end of the mansion, the adventurer will find the treasure, and the game will end.\n",
    "\n"
   ]
  },
  {
   "cell_type": "markdown",
   "id": "8846d61d-cf9d-4ad4-bbb8-1ecb3bb22005",
   "metadata": {},
   "source": [
    "*Introduction to Functions*:\n",
    "\n",
    "    Functions are blocks of code that perform a specific task. They are used to break up complex code into smaller, more manageable parts, which can make your code easier to read and understand. Functions can also be reused multiple times throughout your code, which can save you a lot of time and effort.\n",
    "\n",
    "    Functions are defined using the def keyword, followed by the name of the function and a set of parentheses. Inside the parentheses, you can list any arguments that the function needs in order to perform its task. These arguments are optional, but they can be useful if you need to pass data into the function from outside.\n",
    "\n",
    "    Once you have defined a function, you can call it from anywhere in your code using its name and passing any necessary arguments. When the function is called, the code inside it is executed, and any values that it returns are passed back to the calling code.\n",
    "\n",
    "    In this exercise, we have defined a function called encounter_ghost that simulates a battle between the adventurer and a ghost, and run_mansion. Your task is to complete these functions by using flow control statements such as if, else, while, for loops, and nested loops. Remember to pay attention to the instructions and comments provided in the function to help guide you. Once you have completed the function encounter_ghost, you can call it from the main code to simulate the battle and test your implementation.\n",
    "\n",
    "    Good luck!"
   ]
  },
  {
   "cell_type": "code",
   "execution_count": 12,
   "id": "499552c8-9e30-46e1-a706-4ac5dc64670e",
   "metadata": {},
   "outputs": [
    {
     "name": "stdout",
     "output_type": "stream",
     "text": [
      "Welcome to the Haunted Mansion!\n",
      "\n",
      "You stand at a crossroads in the mansion. Choose your path:\n",
      "1. Explore the dark hallway\n",
      "2. Enter the dusty library\n",
      "3. Go to the creepy basement\n",
      "4. Check your inventory\n"
     ]
    },
    {
     "name": "stdin",
     "output_type": "stream",
     "text": [
      "What do you choose? (1/2/3/4):  3\n"
     ]
    },
    {
     "name": "stdout",
     "output_type": "stream",
     "text": [
      "You descend into the creepy basement...\n",
      "\n",
      "You encounter a ghost!\n",
      "The ghost has a power level of 5.\n",
      "You fight the ghost with no items. You take full damage!\n",
      "You have 95 health remaining.\n",
      "\n",
      "You stand at a crossroads in the mansion. Choose your path:\n",
      "1. Explore the dark hallway\n",
      "2. Enter the dusty library\n",
      "3. Go to the creepy basement\n",
      "4. Check your inventory\n"
     ]
    },
    {
     "name": "stdin",
     "output_type": "stream",
     "text": [
      "What do you choose? (1/2/3/4):  1\n"
     ]
    },
    {
     "name": "stdout",
     "output_type": "stream",
     "text": [
      "You walk down the dark hallway...\n",
      "You trip and fall! You lose 20 health.\n",
      "\n",
      "You stand at a crossroads in the mansion. Choose your path:\n",
      "1. Explore the dark hallway\n",
      "2. Enter the dusty library\n",
      "3. Go to the creepy basement\n",
      "4. Check your inventory\n"
     ]
    },
    {
     "name": "stdin",
     "output_type": "stream",
     "text": [
      "What do you choose? (1/2/3/4):  4\n"
     ]
    },
    {
     "name": "stdout",
     "output_type": "stream",
     "text": [
      "Your inventory contains: []\n",
      "\n",
      "You stand at a crossroads in the mansion. Choose your path:\n",
      "1. Explore the dark hallway\n",
      "2. Enter the dusty library\n",
      "3. Go to the creepy basement\n",
      "4. Check your inventory\n"
     ]
    },
    {
     "name": "stdin",
     "output_type": "stream",
     "text": [
      "What do you choose? (1/2/3/4):  4\n"
     ]
    },
    {
     "name": "stdout",
     "output_type": "stream",
     "text": [
      "Your inventory contains: []\n",
      "\n",
      "You stand at a crossroads in the mansion. Choose your path:\n",
      "1. Explore the dark hallway\n",
      "2. Enter the dusty library\n",
      "3. Go to the creepy basement\n",
      "4. Check your inventory\n"
     ]
    },
    {
     "name": "stdin",
     "output_type": "stream",
     "text": [
      "What do you choose? (1/2/3/4):  3\n"
     ]
    },
    {
     "name": "stdout",
     "output_type": "stream",
     "text": [
      "You descend into the creepy basement...\n",
      "\n",
      "You encounter a ghost!\n",
      "The ghost has a power level of 5.\n",
      "You fight the ghost with no items. You take full damage!\n",
      "You have 70 health remaining.\n",
      "\n",
      "You stand at a crossroads in the mansion. Choose your path:\n",
      "1. Explore the dark hallway\n",
      "2. Enter the dusty library\n",
      "3. Go to the creepy basement\n",
      "4. Check your inventory\n"
     ]
    },
    {
     "name": "stdin",
     "output_type": "stream",
     "text": [
      "What do you choose? (1/2/3/4):  3\n"
     ]
    },
    {
     "name": "stdout",
     "output_type": "stream",
     "text": [
      "You descend into the creepy basement...\n",
      "\n",
      "You encounter a ghost!\n",
      "The ghost has a power level of 7.\n",
      "You fight the ghost with no items. You take full damage!\n",
      "You have 63 health remaining.\n",
      "\n",
      "You stand at a crossroads in the mansion. Choose your path:\n",
      "1. Explore the dark hallway\n",
      "2. Enter the dusty library\n",
      "3. Go to the creepy basement\n",
      "4. Check your inventory\n"
     ]
    },
    {
     "name": "stdin",
     "output_type": "stream",
     "text": [
      "What do you choose? (1/2/3/4):  2\n"
     ]
    },
    {
     "name": "stdout",
     "output_type": "stream",
     "text": [
      "You enter the dusty library...\n",
      "You find a magic potion!\n",
      "\n",
      "You stand at a crossroads in the mansion. Choose your path:\n",
      "1. Explore the dark hallway\n",
      "2. Enter the dusty library\n",
      "3. Go to the creepy basement\n",
      "4. Check your inventory\n"
     ]
    },
    {
     "name": "stdin",
     "output_type": "stream",
     "text": [
      "What do you choose? (1/2/3/4):  2\n"
     ]
    },
    {
     "name": "stdout",
     "output_type": "stream",
     "text": [
      "You enter the dusty library...\n",
      "You find a magic potion!\n",
      "\n",
      "You stand at a crossroads in the mansion. Choose your path:\n",
      "1. Explore the dark hallway\n",
      "2. Enter the dusty library\n",
      "3. Go to the creepy basement\n",
      "4. Check your inventory\n"
     ]
    },
    {
     "name": "stdin",
     "output_type": "stream",
     "text": [
      "What do you choose? (1/2/3/4):  3\n"
     ]
    },
    {
     "name": "stdout",
     "output_type": "stream",
     "text": [
      "You descend into the creepy basement...\n",
      "\n",
      "You encounter a ghost!\n",
      "The ghost has a power level of 1.\n",
      "You fight the ghost with no items. You take full damage!\n",
      "You have 62 health remaining.\n",
      "\n",
      "You stand at a crossroads in the mansion. Choose your path:\n",
      "1. Explore the dark hallway\n",
      "2. Enter the dusty library\n",
      "3. Go to the creepy basement\n",
      "4. Check your inventory\n"
     ]
    },
    {
     "name": "stdin",
     "output_type": "stream",
     "text": [
      "What do you choose? (1/2/3/4):  3\n"
     ]
    },
    {
     "name": "stdout",
     "output_type": "stream",
     "text": [
      "You descend into the creepy basement...\n",
      "\n",
      "You encounter a ghost!\n",
      "The ghost has a power level of 7.\n",
      "You fight the ghost with no items. You take full damage!\n",
      "You have 55 health remaining.\n",
      "\n",
      "You stand at a crossroads in the mansion. Choose your path:\n",
      "1. Explore the dark hallway\n",
      "2. Enter the dusty library\n",
      "3. Go to the creepy basement\n",
      "4. Check your inventory\n"
     ]
    },
    {
     "name": "stdin",
     "output_type": "stream",
     "text": [
      "What do you choose? (1/2/3/4):  1\n"
     ]
    },
    {
     "name": "stdout",
     "output_type": "stream",
     "text": [
      "You walk down the dark hallway...\n",
      "You find a flashlight!\n",
      "\n",
      "You stand at a crossroads in the mansion. Choose your path:\n",
      "1. Explore the dark hallway\n",
      "2. Enter the dusty library\n",
      "3. Go to the creepy basement\n",
      "4. Check your inventory\n"
     ]
    },
    {
     "name": "stdin",
     "output_type": "stream",
     "text": [
      "What do you choose? (1/2/3/4):  1\n"
     ]
    },
    {
     "name": "stdout",
     "output_type": "stream",
     "text": [
      "You walk down the dark hallway...\n",
      "You find a flashlight!\n",
      "\n",
      "You stand at a crossroads in the mansion. Choose your path:\n",
      "1. Explore the dark hallway\n",
      "2. Enter the dusty library\n",
      "3. Go to the creepy basement\n",
      "4. Check your inventory\n"
     ]
    },
    {
     "name": "stdin",
     "output_type": "stream",
     "text": [
      "What do you choose? (1/2/3/4):  1\n"
     ]
    },
    {
     "name": "stdout",
     "output_type": "stream",
     "text": [
      "You walk down the dark hallway...\n",
      "You find a flashlight!\n",
      "\n",
      "You stand at a crossroads in the mansion. Choose your path:\n",
      "1. Explore the dark hallway\n",
      "2. Enter the dusty library\n",
      "3. Go to the creepy basement\n",
      "4. Check your inventory\n"
     ]
    },
    {
     "name": "stdin",
     "output_type": "stream",
     "text": [
      "What do you choose? (1/2/3/4):  2\n"
     ]
    },
    {
     "name": "stdout",
     "output_type": "stream",
     "text": [
      "You enter the dusty library...\n",
      "You find a magic potion!\n",
      "\n",
      "You stand at a crossroads in the mansion. Choose your path:\n",
      "1. Explore the dark hallway\n",
      "2. Enter the dusty library\n",
      "3. Go to the creepy basement\n",
      "4. Check your inventory\n"
     ]
    },
    {
     "name": "stdin",
     "output_type": "stream",
     "text": [
      "What do you choose? (1/2/3/4):  3\n"
     ]
    },
    {
     "name": "stdout",
     "output_type": "stream",
     "text": [
      "You descend into the creepy basement...\n",
      "\n",
      "You encounter a ghost!\n",
      "The ghost has a power level of 9.\n",
      "You fight the ghost with no items. You take full damage!\n",
      "You have 46 health remaining.\n",
      "\n",
      "You stand at a crossroads in the mansion. Choose your path:\n",
      "1. Explore the dark hallway\n",
      "2. Enter the dusty library\n",
      "3. Go to the creepy basement\n",
      "4. Check your inventory\n"
     ]
    },
    {
     "name": "stdin",
     "output_type": "stream",
     "text": [
      "What do you choose? (1/2/3/4):  4\n"
     ]
    },
    {
     "name": "stdout",
     "output_type": "stream",
     "text": [
      "Your inventory contains: ['Magic Potion', 'Magic Potion', 'Flashlight', 'Flashlight', 'Flashlight', 'Magic Potion']\n",
      "\n",
      "You stand at a crossroads in the mansion. Choose your path:\n",
      "1. Explore the dark hallway\n",
      "2. Enter the dusty library\n",
      "3. Go to the creepy basement\n",
      "4. Check your inventory\n"
     ]
    },
    {
     "name": "stdin",
     "output_type": "stream",
     "text": [
      "What do you choose? (1/2/3/4):  5\n"
     ]
    },
    {
     "name": "stdout",
     "output_type": "stream",
     "text": [
      "Invalid choice. Please try again.\n",
      "\n",
      "You stand at a crossroads in the mansion. Choose your path:\n",
      "1. Explore the dark hallway\n",
      "2. Enter the dusty library\n",
      "3. Go to the creepy basement\n",
      "4. Check your inventory\n"
     ]
    },
    {
     "name": "stdin",
     "output_type": "stream",
     "text": [
      "What do you choose? (1/2/3/4):  1\n"
     ]
    },
    {
     "name": "stdout",
     "output_type": "stream",
     "text": [
      "You walk down the dark hallway...\n",
      "You trip and fall! You lose 20 health.\n",
      "\n",
      "You stand at a crossroads in the mansion. Choose your path:\n",
      "1. Explore the dark hallway\n",
      "2. Enter the dusty library\n",
      "3. Go to the creepy basement\n",
      "4. Check your inventory\n"
     ]
    },
    {
     "name": "stdin",
     "output_type": "stream",
     "text": [
      "What do you choose? (1/2/3/4):  2\n"
     ]
    },
    {
     "name": "stdout",
     "output_type": "stream",
     "text": [
      "You enter the dusty library...\n",
      "You find a magic potion!\n",
      "\n",
      "You stand at a crossroads in the mansion. Choose your path:\n",
      "1. Explore the dark hallway\n",
      "2. Enter the dusty library\n",
      "3. Go to the creepy basement\n",
      "4. Check your inventory\n"
     ]
    },
    {
     "name": "stdin",
     "output_type": "stream",
     "text": [
      "What do you choose? (1/2/3/4):  3\n"
     ]
    },
    {
     "name": "stdout",
     "output_type": "stream",
     "text": [
      "You descend into the creepy basement...\n",
      "\n",
      "You encounter a ghost!\n",
      "The ghost has a power level of 10.\n",
      "You fight the ghost with no items. You take full damage!\n",
      "You have 16 health remaining.\n",
      "\n",
      "You stand at a crossroads in the mansion. Choose your path:\n",
      "1. Explore the dark hallway\n",
      "2. Enter the dusty library\n",
      "3. Go to the creepy basement\n",
      "4. Check your inventory\n"
     ]
    },
    {
     "name": "stdin",
     "output_type": "stream",
     "text": [
      "What do you choose? (1/2/3/4):  4\n"
     ]
    },
    {
     "name": "stdout",
     "output_type": "stream",
     "text": [
      "Your inventory contains: ['Magic Potion', 'Magic Potion', 'Flashlight', 'Flashlight', 'Flashlight', 'Magic Potion', 'Magic Potion']\n",
      "\n",
      "You stand at a crossroads in the mansion. Choose your path:\n",
      "1. Explore the dark hallway\n",
      "2. Enter the dusty library\n",
      "3. Go to the creepy basement\n",
      "4. Check your inventory\n"
     ]
    },
    {
     "name": "stdin",
     "output_type": "stream",
     "text": [
      "What do you choose? (1/2/3/4):  5\n"
     ]
    },
    {
     "name": "stdout",
     "output_type": "stream",
     "text": [
      "Invalid choice. Please try again.\n",
      "\n",
      "You stand at a crossroads in the mansion. Choose your path:\n",
      "1. Explore the dark hallway\n",
      "2. Enter the dusty library\n",
      "3. Go to the creepy basement\n",
      "4. Check your inventory\n"
     ]
    },
    {
     "name": "stdin",
     "output_type": "stream",
     "text": [
      "What do you choose? (1/2/3/4):  1\n"
     ]
    },
    {
     "name": "stdout",
     "output_type": "stream",
     "text": [
      "You walk down the dark hallway...\n",
      "You trip and fall! You lose 20 health.\n",
      "You have succumbed to the haunted mansion's terrors. Game over!\n"
     ]
    }
   ],
   "source": [
    "import random\n",
    "\n",
    "# List of items the adventurer can collect\n",
    "items = [\"Flashlight\", \"Magic Potion\", \"Ancient Key\", \"Ghost Repellent\", \"Treasure Map\"]\n",
    "inventory = []\n",
    "health = 100\n",
    "\n",
    "def encounter_ghost(health, inventory):\n",
    "    \"\"\"Handle the encounter with a ghost.\"\"\"\n",
    "    print(\"\\nYou encounter a ghost!\")\n",
    "    ghost_power = random.randint(1, 10)  # Ghost's power level\n",
    "    print(f\"The ghost has a power level of {ghost_power}.\")\n",
    "\n",
    "    if \"Ghost Repellent\" in inventory:\n",
    "        print(\"You use the Ghost Repellent!\")\n",
    "        health -= ghost_power // 2  # Reduced damage if the repellent is used\n",
    "        print(\"The repellent weakens the ghost! You take less damage.\")\n",
    "    else:\n",
    "        health -= ghost_power\n",
    "        print(\"You fight the ghost with no items. You take full damage!\")\n",
    "\n",
    "    print(f\"You have {health} health remaining.\")\n",
    "    \n",
    "    return health\n",
    "\n",
    "def run_mansion():\n",
    "    \"\"\"Main function to run the game in the Haunted Mansion.\"\"\"\n",
    "    print(\"Welcome to the Haunted Mansion!\")\n",
    "    \n",
    "    health = 100\n",
    "    inventory = []\n",
    "    \n",
    "    while health > 0:\n",
    "        print(\"\\nYou stand at a crossroads in the mansion. Choose your path:\")\n",
    "        print(\"1. Explore the dark hallway\")\n",
    "        print(\"2. Enter the dusty library\")\n",
    "        print(\"3. Go to the creepy basement\")\n",
    "        print(\"4. Check your inventory\")\n",
    "        \n",
    "        choice = input(\"What do you choose? (1/2/3/4): \")\n",
    "\n",
    "        if choice == '1':\n",
    "            print(\"You walk down the dark hallway...\")\n",
    "            if random.random() < 0.5:\n",
    "                print(\"You find a flashlight!\")\n",
    "                inventory.append(\"Flashlight\")\n",
    "            else:\n",
    "                health -= 20\n",
    "                print(\"You trip and fall! You lose 20 health.\")\n",
    "        \n",
    "        elif choice == '2':\n",
    "            print(\"You enter the dusty library...\")\n",
    "            if random.random() < 0.5:\n",
    "                print(\"You find a magic potion!\")\n",
    "                inventory.append(\"Magic Potion\")\n",
    "            else:\n",
    "                health -= 15\n",
    "                print(\"A book falls on your head! You lose 15 health.\")\n",
    "        \n",
    "        elif choice == '3':\n",
    "            print(\"You descend into the creepy basement...\")\n",
    "            health = encounter_ghost(health, inventory)\n",
    "\n",
    "        elif choice == '4':\n",
    "            print(\"Your inventory contains:\", inventory)\n",
    "        \n",
    "        else:\n",
    "            print(\"Invalid choice. Please try again.\")\n",
    "\n",
    "        if health <= 0:\n",
    "            print(\"You have succumbed to the haunted mansion's terrors. Game over!\")\n",
    "            return\n",
    "\n",
    "    print(\"\\nCongratulations! You've survived the Haunted Mansion.\")\n",
    "    if \"Treasure Map\" in inventory:\n",
    "        print(\"You have the treasure map! You find the hidden treasure!\")\n",
    "    else:\n",
    "        print(\"You didn't find the treasure map. The treasure remains hidden.\")\n",
    "    \n",
    "# Start the game\n",
    "run_mansion()\n"
   ]
  },
  {
   "cell_type": "markdown",
   "id": "9e13a33c-38e5-44b3-bd1b-9a642c962c89",
   "metadata": {},
   "source": [
    "To run the game, simply call the run_mansion() function:"
   ]
  },
  {
   "cell_type": "code",
   "execution_count": null,
   "id": "f238dc90-0be2-4d8c-93e9-30a1dc8a5b72",
   "metadata": {},
   "outputs": [],
   "source": [
    "run_mansion()"
   ]
  },
  {
   "cell_type": "markdown",
   "id": "88212f63-3bdb-479f-bf6c-4ecd0685d39a",
   "metadata": {},
   "source": [
    "This should print the game's narrative and prompt the user to make choices and fight ghosts. The game ends when the adventurer finds the key or loses all their health points. "
   ]
  }
 ],
 "metadata": {
  "kernelspec": {
   "display_name": "Python 3 (ipykernel)",
   "language": "python",
   "name": "python3"
  },
  "language_info": {
   "codemirror_mode": {
    "name": "ipython",
    "version": 3
   },
   "file_extension": ".py",
   "mimetype": "text/x-python",
   "name": "python",
   "nbconvert_exporter": "python",
   "pygments_lexer": "ipython3",
   "version": "3.12.2"
  }
 },
 "nbformat": 4,
 "nbformat_minor": 5
}
